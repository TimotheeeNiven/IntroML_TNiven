{
  "nbformat": 4,
  "nbformat_minor": 0,
  "metadata": {
    "colab": {
      "provenance": [],
      "machine_shape": "hm",
      "gpuType": "T4",
      "include_colab_link": true
    },
    "kernelspec": {
      "name": "python3",
      "display_name": "Python 3"
    },
    "language_info": {
      "name": "python"
    },
    "accelerator": "GPU"
  },
  "cells": [
    {
      "cell_type": "markdown",
      "metadata": {
        "id": "view-in-github",
        "colab_type": "text"
      },
      "source": [
        "<a href=\"https://colab.research.google.com/github/TimotheeeNiven/IntroML_TNiven/blob/main/Homework2_TNivenDeepLearning.ipynb\" target=\"_parent\"><img src=\"https://colab.research.google.com/assets/colab-badge.svg\" alt=\"Open In Colab\"/></a>"
      ]
    },
    {
      "cell_type": "code",
      "execution_count": 2,
      "metadata": {
        "id": "4PGEfl5_bQ7f"
      },
      "outputs": [],
      "source": [
        "import tensorflow as tf\n",
        "from tensorflow.keras import layers, models\n",
        "import torch\n",
        "import torchvision\n",
        "import torchvision.transforms as transforms\n",
        "import torch.nn as nn\n",
        "import torch.nn.functional as F\n",
        "import torch.optim as optim\n",
        "import matplotlib.pyplot as plt"
      ]
    },
    {
      "cell_type": "code",
      "source": [
        "def alexnet(input_shape, num_classes):\n",
        "    model = models.Sequential()\n",
        "    model.add(layers.Conv2D(64, kernel_size=(3, 3), activation='relu', input_shape=input_shape))\n",
        "    model.add(layers.MaxPooling2D(pool_size=(2, 2)))\n",
        "    model.add(layers.Conv2D(128, kernel_size=(3, 3), activation='relu', padding='same'))\n",
        "    model.add(layers.MaxPooling2D(pool_size=(2, 2)))\n",
        "    model.add(layers.Conv2D(256, kernel_size=(3, 3), activation='relu', padding='same'))\n",
        "    model.add(layers.Conv2D(256, kernel_size=(3, 3), activation='relu', padding='same'))\n",
        "    model.add(layers.Conv2D(128, kernel_size=(3, 3), activation='relu', padding='same'))\n",
        "    model.add(layers.MaxPooling2D(pool_size=(2, 2)))\n",
        "    model.add(layers.Flatten())\n",
        "    model.add(layers.Dense(512, activation='relu'))\n",
        "    model.add(layers.Dense(num_classes, activation='softmax'))\n",
        "    return model"
      ],
      "metadata": {
        "id": "a_pCgxIPe45X"
      },
      "execution_count": 3,
      "outputs": []
    },
    {
      "cell_type": "code",
      "source": [
        "def alexnet_with_dropout(input_shape, num_classes):\n",
        "    model = models.Sequential()\n",
        "    model.add(layers.Conv2D(64, kernel_size=(3, 3), activation='relu', input_shape=input_shape))\n",
        "    model.add(layers.MaxPooling2D(pool_size=(2, 2)))\n",
        "    model.add(layers.Conv2D(128, kernel_size=(3, 3), activation='relu', padding='same'))\n",
        "    model.add(layers.MaxPooling2D(pool_size=(2, 2)))\n",
        "    model.add(layers.Conv2D(256, kernel_size=(3, 3), activation='relu', padding='same'))\n",
        "    model.add(layers.Conv2D(256, kernel_size=(3, 3), activation='relu', padding='same'))\n",
        "    model.add(layers.Conv2D(128, kernel_size=(3, 3), activation='relu', padding='same'))\n",
        "    model.add(layers.MaxPooling2D(pool_size=(2, 2)))\n",
        "    model.add(layers.Flatten())\n",
        "    model.add(layers.Dropout(0.5))  # Dropout layer\n",
        "    model.add(layers.Dense(512, activation='relu'))\n",
        "    model.add(layers.Dropout(0.5))  # Dropout layer\n",
        "    model.add(layers.Dense(num_classes, activation='softmax'))\n",
        "    return model"
      ],
      "metadata": {
        "id": "wfxuQ7lkjSFM"
      },
      "execution_count": 4,
      "outputs": []
    },
    {
      "cell_type": "code",
      "source": [
        "class BasicBlock(nn.Module):\n",
        "    expansion = 1  # Expansion factor to adjust the number of output channels if needed\n",
        "\n",
        "    def __init__(self, in_channels, out_channels, stride=1):\n",
        "        super(BasicBlock, self).__init__()\n",
        "        # First convolutional layer of the block\n",
        "        self.conv1 = nn.Conv2d(in_channels, out_channels, kernel_size=3, stride=stride, padding=1, bias=False)\n",
        "        self.bn1 = nn.BatchNorm2d(out_channels)  # Batch normalization after the first convolution\n",
        "\n",
        "        # Second convolutional layer of the block\n",
        "        self.conv2 = nn.Conv2d(out_channels, out_channels, kernel_size=3, stride=1, padding=1, bias=False)\n",
        "        self.bn2 = nn.BatchNorm2d(out_channels)  # Batch normalization after the second convolution\n",
        "\n",
        "        # Shortcut connection to match input and output dimensions if necessary\n",
        "        self.shortcut = nn.Sequential()\n",
        "        if stride != 1 or in_channels != self.expansion * out_channels:\n",
        "            self.shortcut = nn.Sequential(\n",
        "                nn.Conv2d(in_channels, self.expansion * out_channels, kernel_size=1, stride=stride, bias=False),\n",
        "                nn.BatchNorm2d(self.expansion * out_channels)\n",
        "            )\n",
        "\n",
        "    def forward(self, x):\n",
        "        # Forward pass through the first convolution, batch norm, and ReLU activation\n",
        "        out = F.relu(self.bn1(self.conv1(x)))\n",
        "        # Forward pass through the second convolution and batch norm\n",
        "        out = self.bn2(self.conv2(out))\n",
        "        # Adding the shortcut connection's output to the main path's output\n",
        "        out += self.shortcut(x)\n",
        "        # Final ReLU activation after adding the shortcut\n",
        "        out = F.relu(out)\n",
        "        return out"
      ],
      "metadata": {
        "id": "TC4bbYFZqRkF"
      },
      "execution_count": 5,
      "outputs": []
    },
    {
      "cell_type": "code",
      "source": [
        "class ResNet11(nn.Module):\n",
        "    def __init__(self, block, num_blocks, num_classes=10):\n",
        "        super(ResNet11, self).__init__()\n",
        "        self.in_channels = 64  # Initial number of input channels\n",
        "\n",
        "        # Initial convolutional layer before entering the residual blocks\n",
        "        self.conv1 = nn.Conv2d(3, 64, kernel_size=3, stride=1, padding=1, bias=False)\n",
        "        self.bn1 = nn.BatchNorm2d(64)  # Batch normalization after the initial convolution\n",
        "\n",
        "        # Creating layers of blocks with increasing channel sizes\n",
        "        self.layer1 = self._make_layer(block, 64, num_blocks[0], stride=1)\n",
        "        self.layer2 = self._make_layer(block, 128, num_blocks[1], stride=2)\n",
        "        self.layer3 = self._make_layer(block, 256, num_blocks[2], stride=2)\n",
        "        self.layer4 = self._make_layer(block, 512, num_blocks[3], stride=2)\n",
        "\n",
        "        # Final fully connected layer for classification\n",
        "        self.linear = nn.Linear(512 * block.expansion, num_classes)\n",
        "\n",
        "    def _make_layer(self, block, out_channels, num_blocks, stride):\n",
        "        # Helper function to create a layer with specified blocks\n",
        "        strides = [stride] + [1]*(num_blocks-1)  # First block could have a stride and the rest have stride of 1\n",
        "        layers = []\n",
        "        for stride in strides:\n",
        "            layers.append(block(self.in_channels, out_channels, stride))\n",
        "            self.in_channels = out_channels * block.expansion  # Update in_channels for the next block\n",
        "        return nn.Sequential(*layers)\n",
        "\n",
        "    def forward(self, x):\n",
        "        # Forward pass through the initial convolution, batch norm, and ReLU activation\n",
        "        out = F.relu(self.bn1(self.conv1(x)))\n",
        "        # Forward pass through all the layers of blocks\n",
        "        out = self.layer1(out)\n",
        "        out = self.layer2(out)\n",
        "        out = self.layer3(out)\n",
        "        out = self.layer4(out)\n",
        "        # Global average pooling before the final layer\n",
        "        out = F.avg_pool2d(out, 4)\n",
        "        out = out.view(out.size(0), -1)  # Flatten the output for the fully connected layer\n",
        "        out = self.linear(out)  # Final classification layer\n",
        "        return out\n"
      ],
      "metadata": {
        "id": "YiUsizArqbH1"
      },
      "execution_count": 6,
      "outputs": []
    },
    {
      "cell_type": "code",
      "source": [
        "class ResNet11_with_dropout(nn.Module):\n",
        "    def __init__(self, block, num_blocks, num_classes=10, dropout_prob=0.5):\n",
        "        super(ResNet11_with_dropout, self).__init__()\n",
        "        self.in_channels = 64  # Initial number of input channels\n",
        "\n",
        "        # Initial convolutional layer before entering the residual blocks\n",
        "        self.conv1 = nn.Conv2d(3, 64, kernel_size=3, stride=1, padding=1, bias=False)\n",
        "        self.bn1 = nn.BatchNorm2d(64)  # Batch normalization after the initial convolution\n",
        "\n",
        "        # Creating layers of blocks with increasing channel sizes\n",
        "        self.layer1 = self._make_layer(block, 64, num_blocks[0], stride=1, dropout_prob=dropout_prob)\n",
        "        self.layer2 = self._make_layer(block, 128, num_blocks[1], stride=2, dropout_prob=dropout_prob)\n",
        "        self.layer3 = self._make_layer(block, 256, num_blocks[2], stride=2, dropout_prob=dropout_prob)\n",
        "        self.layer4 = self._make_layer(block, 512, num_blocks[3], stride=2, dropout_prob=dropout_prob)\n",
        "\n",
        "        # Final fully connected layer for classification\n",
        "        self.linear = nn.Linear(512 * block.expansion, num_classes)\n",
        "\n",
        "        # Dropout layer\n",
        "        self.dropout = nn.Dropout(dropout_prob)\n",
        "\n",
        "    def _make_layer(self, block, out_channels, num_blocks, stride, dropout_prob):\n",
        "        # Helper function to create a layer with specified blocks\n",
        "        strides = [stride] + [1]*(num_blocks-1)  # First block could have a stride and the rest have stride of 1\n",
        "        layers = []\n",
        "        for stride in strides:\n",
        "            layers.append(block(self.in_channels, out_channels, stride))\n",
        "            self.in_channels = out_channels * block.expansion  # Update in_channels for the next block\n",
        "        layers.append(nn.Dropout(dropout_prob))  # Adding dropout after each block\n",
        "        return nn.Sequential(*layers)\n",
        "\n",
        "    def forward(self, x):\n",
        "        # Forward pass through the initial convolution, batch norm, and ReLU activation\n",
        "        out = F.relu(self.bn1(self.conv1(x)))\n",
        "        # Forward pass through all the layers of blocks\n",
        "        out = self.layer1(out)\n",
        "        out = self.layer2(out)\n",
        "        out = self.layer3(out)\n",
        "        out = self.layer4(out)\n",
        "        # Global average pooling before the final layer\n",
        "        out = F.avg_pool2d(out, 4)\n",
        "        out = out.view(out.size(0), -1)  # Flatten the output for the fully connected layer\n",
        "        out = self.linear(out)  # Final classification layer\n",
        "        return out\n"
      ],
      "metadata": {
        "id": "0AnAXKbptBdx"
      },
      "execution_count": 7,
      "outputs": []
    },
    {
      "cell_type": "code",
      "source": [
        "def train_and_validate(net, trainloader, testloader, optimizer, criterion, device, epochs=10):\n",
        "    train_loss_list = []\n",
        "    val_loss_list = []\n",
        "    val_accuracy_list = []\n",
        "\n",
        "    for epoch in range(epochs):\n",
        "        running_loss = 0.0\n",
        "        net.train()  # Set the model to training mode\n",
        "        for i, data in enumerate(trainloader, 0):\n",
        "            inputs, labels = data[0].to(device), data[1].to(device)\n",
        "            optimizer.zero_grad()\n",
        "            outputs = net(inputs)\n",
        "            loss = criterion(outputs, labels)\n",
        "            loss.backward()\n",
        "            optimizer.step()\n",
        "            running_loss += loss.item()\n",
        "        train_loss_list.append(running_loss / len(trainloader))\n",
        "\n",
        "        # Validation loop\n",
        "        running_loss = 0.0\n",
        "        correct = 0\n",
        "        total = 0\n",
        "        net.eval()  # Set the model to evaluation mode\n",
        "        with torch.no_grad():\n",
        "            for data in testloader:\n",
        "                images, labels = data[0].to(device), data[1].to(device)\n",
        "                outputs = net(images)\n",
        "                loss = criterion(outputs, labels)\n",
        "                running_loss += loss.item()\n",
        "                _, predicted = torch.max(outputs.data, 1)\n",
        "                total += labels.size(0)\n",
        "                correct += (predicted == labels).sum().item()\n",
        "        val_loss_list.append(running_loss / len(testloader))\n",
        "        val_accuracy = 100 * correct / total\n",
        "        val_accuracy_list.append(val_accuracy)\n",
        "\n",
        "        print(f'Epoch {epoch + 1}, Training loss: {train_loss_list[-1]}, Validation loss: {val_loss_list[-1]}, Validation Accuracy: {val_accuracy}%')\n",
        "\n",
        "    return train_loss_list, val_loss_list, val_accuracy_list"
      ],
      "metadata": {
        "id": "Sjkq5M8bu29_"
      },
      "execution_count": 8,
      "outputs": []
    },
    {
      "cell_type": "code",
      "source": [
        "# Load CIFAR-10 dataset\n",
        "(x_train, y_train), (x_test, y_test) = tf.keras.datasets.cifar10.load_data()\n",
        "\n",
        "x_train, x_test = x_train / 255.0, x_test / 255.0\n",
        "\n",
        "input_shape = x_train.shape[1:]\n",
        "num_classes = 10"
      ],
      "metadata": {
        "id": "JldbrGiufZvf",
        "colab": {
          "base_uri": "https://localhost:8080/"
        },
        "outputId": "4386b9b2-a0aa-43ce-9961-c984ca1c8b45"
      },
      "execution_count": 9,
      "outputs": [
        {
          "output_type": "stream",
          "name": "stdout",
          "text": [
            "Downloading data from https://www.cs.toronto.edu/~kriz/cifar-10-python.tar.gz\n",
            "170498071/170498071 [==============================] - 6s 0us/step\n"
          ]
        }
      ]
    },
    {
      "cell_type": "code",
      "source": [
        "# Instantiate the model\n",
        "model = alexnet(input_shape, num_classes)\n",
        "\n",
        "# Compile the model\n",
        "model.compile(optimizer='adam', loss='sparse_categorical_crossentropy', metrics=['accuracy'])"
      ],
      "metadata": {
        "id": "-X19b445fAYu"
      },
      "execution_count": 30,
      "outputs": []
    },
    {
      "cell_type": "code",
      "source": [
        "history = model.fit(x_train, y_train, epochs=20, validation_data=(x_test, y_test))"
      ],
      "metadata": {
        "colab": {
          "base_uri": "https://localhost:8080/"
        },
        "id": "lZW4wjw8hlmX",
        "outputId": "2660f81c-642d-4631-c741-f1ed297afd5e"
      },
      "execution_count": null,
      "outputs": [
        {
          "output_type": "stream",
          "name": "stdout",
          "text": [
            "Epoch 1/20\n",
            "1563/1563 [==============================] - 8s 5ms/step - loss: 0.3976 - accuracy: 0.8646 - val_loss: 0.8218 - val_accuracy: 0.7597\n",
            "Epoch 2/20\n",
            "1563/1563 [==============================] - 8s 5ms/step - loss: 0.3949 - accuracy: 0.8668 - val_loss: 0.7868 - val_accuracy: 0.7607\n",
            "Epoch 3/20\n",
            "1563/1563 [==============================] - 8s 5ms/step - loss: 0.3836 - accuracy: 0.8701 - val_loss: 0.8717 - val_accuracy: 0.7546\n",
            "Epoch 4/20\n",
            "1563/1563 [==============================] - 8s 5ms/step - loss: 0.3746 - accuracy: 0.8757 - val_loss: 0.8890 - val_accuracy: 0.7571\n",
            "Epoch 5/20\n",
            "1563/1563 [==============================] - 8s 5ms/step - loss: 0.3654 - accuracy: 0.8779 - val_loss: 0.9084 - val_accuracy: 0.7516\n",
            "Epoch 6/20\n",
            "1563/1563 [==============================] - 8s 5ms/step - loss: 0.3630 - accuracy: 0.8781 - val_loss: 0.9202 - val_accuracy: 0.7507\n",
            "Epoch 7/20\n",
            "1563/1563 [==============================] - 8s 5ms/step - loss: 0.3426 - accuracy: 0.8850 - val_loss: 0.9048 - val_accuracy: 0.7544\n",
            "Epoch 8/20\n",
            "1563/1563 [==============================] - 8s 5ms/step - loss: 0.3470 - accuracy: 0.8857 - val_loss: 0.9023 - val_accuracy: 0.7616\n",
            "Epoch 9/20\n",
            "1563/1563 [==============================] - 8s 5ms/step - loss: 0.3469 - accuracy: 0.8877 - val_loss: 0.8597 - val_accuracy: 0.7598\n",
            "Epoch 10/20\n",
            "1563/1563 [==============================] - 8s 5ms/step - loss: 0.3352 - accuracy: 0.8913 - val_loss: 0.9347 - val_accuracy: 0.7525\n",
            "Epoch 11/20\n",
            "1563/1563 [==============================] - 8s 5ms/step - loss: 0.3222 - accuracy: 0.8956 - val_loss: 0.9386 - val_accuracy: 0.7455\n",
            "Epoch 12/20\n",
            "1563/1563 [==============================] - 8s 5ms/step - loss: 0.3389 - accuracy: 0.8927 - val_loss: 0.9546 - val_accuracy: 0.7439\n",
            "Epoch 13/20\n",
            "1563/1563 [==============================] - 8s 5ms/step - loss: 0.3266 - accuracy: 0.8951 - val_loss: 0.9694 - val_accuracy: 0.7520\n",
            "Epoch 14/20\n",
            "1563/1563 [==============================] - 8s 5ms/step - loss: 0.3134 - accuracy: 0.8981 - val_loss: 0.9859 - val_accuracy: 0.7533\n",
            "Epoch 15/20\n",
            "1563/1563 [==============================] - 8s 5ms/step - loss: 0.3124 - accuracy: 0.8979 - val_loss: 0.9878 - val_accuracy: 0.7563\n",
            "Epoch 16/20\n",
            "1563/1563 [==============================] - 8s 5ms/step - loss: 0.3087 - accuracy: 0.9018 - val_loss: 0.9893 - val_accuracy: 0.7434\n",
            "Epoch 17/20\n",
            "1563/1563 [==============================] - 8s 5ms/step - loss: 0.3056 - accuracy: 0.9027 - val_loss: 0.9828 - val_accuracy: 0.7503\n",
            "Epoch 18/20\n",
            "1563/1563 [==============================] - 8s 5ms/step - loss: 0.3118 - accuracy: 0.9020 - val_loss: 1.0322 - val_accuracy: 0.7341\n",
            "Epoch 19/20\n",
            "1563/1563 [==============================] - 8s 5ms/step - loss: 0.2987 - accuracy: 0.9056 - val_loss: 1.0709 - val_accuracy: 0.7555\n",
            "Epoch 20/20\n",
            "1563/1563 [==============================] - 8s 5ms/step - loss: 0.3084 - accuracy: 0.9054 - val_loss: 1.0262 - val_accuracy: 0.7531\n"
          ]
        }
      ]
    },
    {
      "cell_type": "code",
      "source": [
        "test_loss, test_acc = model.evaluate(x_test, y_test)\n",
        "print(f'Test accuracy: {test_acc}')"
      ],
      "metadata": {
        "colab": {
          "base_uri": "https://localhost:8080/"
        },
        "id": "_nTjimnRhwn8",
        "outputId": "079075ad-f1d9-4090-d18f-99c470f30d06"
      },
      "execution_count": 31,
      "outputs": [
        {
          "output_type": "stream",
          "name": "stdout",
          "text": [
            "313/313 [==============================] - 3s 4ms/step - loss: 2.3034 - accuracy: 0.0949\n",
            "Test accuracy: 0.09489999711513519\n"
          ]
        }
      ]
    },
    {
      "cell_type": "code",
      "source": [
        "# Instantiate the model\n",
        "model1 = alexnet_with_dropout(input_shape, num_classes)\n",
        "\n",
        "# Compile the model\n",
        "model1.compile(optimizer='adam', loss='sparse_categorical_crossentropy', metrics=['accuracy'])\n",
        "\n",
        "# Now, the model should compile successfully"
      ],
      "metadata": {
        "id": "L31syI7tjnYH"
      },
      "execution_count": null,
      "outputs": []
    },
    {
      "cell_type": "code",
      "source": [
        "history1 = model1.fit(x_train, y_train, epochs=20, validation_data=(x_test, y_test))"
      ],
      "metadata": {
        "colab": {
          "base_uri": "https://localhost:8080/"
        },
        "id": "kLH8h3SqjtLc",
        "outputId": "e7539a88-226f-4165-ad77-359cd1d225c1"
      },
      "execution_count": null,
      "outputs": [
        {
          "output_type": "stream",
          "name": "stdout",
          "text": [
            "Epoch 1/20\n",
            "1563/1563 [==============================] - 15s 6ms/step - loss: 1.6218 - accuracy: 0.3953 - val_loss: 1.2539 - val_accuracy: 0.5432\n",
            "Epoch 2/20\n",
            "1563/1563 [==============================] - 8s 5ms/step - loss: 1.2149 - accuracy: 0.5665 - val_loss: 1.0707 - val_accuracy: 0.6208\n",
            "Epoch 3/20\n",
            "1563/1563 [==============================] - 8s 5ms/step - loss: 1.0339 - accuracy: 0.6363 - val_loss: 0.9316 - val_accuracy: 0.6672\n",
            "Epoch 4/20\n",
            "1563/1563 [==============================] - 8s 5ms/step - loss: 0.9114 - accuracy: 0.6841 - val_loss: 0.8682 - val_accuracy: 0.7044\n",
            "Epoch 5/20\n",
            "1563/1563 [==============================] - 8s 5ms/step - loss: 0.8241 - accuracy: 0.7139 - val_loss: 0.8306 - val_accuracy: 0.7152\n",
            "Epoch 6/20\n",
            "1563/1563 [==============================] - 8s 5ms/step - loss: 0.7644 - accuracy: 0.7362 - val_loss: 0.7935 - val_accuracy: 0.7322\n",
            "Epoch 7/20\n",
            "1563/1563 [==============================] - 8s 5ms/step - loss: 0.7122 - accuracy: 0.7540 - val_loss: 0.7753 - val_accuracy: 0.7359\n",
            "Epoch 8/20\n",
            "1563/1563 [==============================] - 8s 5ms/step - loss: 0.6579 - accuracy: 0.7742 - val_loss: 0.8156 - val_accuracy: 0.7293\n",
            "Epoch 9/20\n",
            "1563/1563 [==============================] - 8s 5ms/step - loss: 0.6376 - accuracy: 0.7797 - val_loss: 0.7526 - val_accuracy: 0.7524\n",
            "Epoch 10/20\n",
            "1563/1563 [==============================] - 8s 5ms/step - loss: 0.5932 - accuracy: 0.7944 - val_loss: 0.7641 - val_accuracy: 0.7515\n",
            "Epoch 11/20\n",
            "1563/1563 [==============================] - 8s 5ms/step - loss: 0.5719 - accuracy: 0.8024 - val_loss: 0.8159 - val_accuracy: 0.7344\n",
            "Epoch 12/20\n",
            "1563/1563 [==============================] - 8s 5ms/step - loss: 0.5420 - accuracy: 0.8138 - val_loss: 0.8077 - val_accuracy: 0.7415\n",
            "Epoch 13/20\n",
            "1563/1563 [==============================] - 8s 5ms/step - loss: 0.5313 - accuracy: 0.8168 - val_loss: 0.7809 - val_accuracy: 0.7492\n",
            "Epoch 14/20\n",
            "1563/1563 [==============================] - 8s 5ms/step - loss: 0.5014 - accuracy: 0.8292 - val_loss: 0.8128 - val_accuracy: 0.7400\n",
            "Epoch 15/20\n",
            "1563/1563 [==============================] - 8s 5ms/step - loss: 0.4870 - accuracy: 0.8344 - val_loss: 0.7753 - val_accuracy: 0.7585\n",
            "Epoch 16/20\n",
            "1563/1563 [==============================] - 8s 5ms/step - loss: 0.4704 - accuracy: 0.8396 - val_loss: 0.7822 - val_accuracy: 0.7546\n",
            "Epoch 17/20\n",
            "1563/1563 [==============================] - 8s 5ms/step - loss: 0.4530 - accuracy: 0.8450 - val_loss: 0.7744 - val_accuracy: 0.7608\n",
            "Epoch 18/20\n",
            "1563/1563 [==============================] - 8s 5ms/step - loss: 0.4436 - accuracy: 0.8482 - val_loss: 0.7674 - val_accuracy: 0.7665\n",
            "Epoch 19/20\n",
            "1563/1563 [==============================] - 8s 5ms/step - loss: 0.4310 - accuracy: 0.8532 - val_loss: 0.8383 - val_accuracy: 0.7608\n",
            "Epoch 20/20\n",
            "1563/1563 [==============================] - 8s 5ms/step - loss: 0.4128 - accuracy: 0.8606 - val_loss: 0.8268 - val_accuracy: 0.7614\n"
          ]
        }
      ]
    },
    {
      "cell_type": "code",
      "source": [
        "test_loss, test_acc = model1.evaluate(x_test, y_test)\n",
        "print(f'Test accuracy: {test_acc}')"
      ],
      "metadata": {
        "colab": {
          "base_uri": "https://localhost:8080/"
        },
        "id": "Xkp950KOjxLe",
        "outputId": "e81a05dc-a58e-400e-d1d8-76442ad726b6"
      },
      "execution_count": null,
      "outputs": [
        {
          "output_type": "stream",
          "name": "stdout",
          "text": [
            "313/313 [==============================] - 1s 2ms/step - loss: 0.8268 - accuracy: 0.7614\n",
            "Test accuracy: 0.7613999843597412\n",
            "Model: \"sequential\"\n",
            "_________________________________________________________________\n",
            " Layer (type)                Output Shape              Param #   \n",
            "=================================================================\n",
            " conv2d (Conv2D)             (None, 30, 30, 64)        1792      \n",
            "                                                                 \n",
            " max_pooling2d (MaxPooling2  (None, 15, 15, 64)        0         \n",
            " D)                                                              \n",
            "                                                                 \n",
            " conv2d_1 (Conv2D)           (None, 15, 15, 128)       73856     \n",
            "                                                                 \n",
            " max_pooling2d_1 (MaxPoolin  (None, 7, 7, 128)         0         \n",
            " g2D)                                                            \n",
            "                                                                 \n",
            " conv2d_2 (Conv2D)           (None, 7, 7, 256)         295168    \n",
            "                                                                 \n",
            " conv2d_3 (Conv2D)           (None, 7, 7, 256)         590080    \n",
            "                                                                 \n",
            " conv2d_4 (Conv2D)           (None, 7, 7, 128)         295040    \n",
            "                                                                 \n",
            " max_pooling2d_2 (MaxPoolin  (None, 3, 3, 128)         0         \n",
            " g2D)                                                            \n",
            "                                                                 \n",
            " flatten (Flatten)           (None, 1152)              0         \n",
            "                                                                 \n",
            " dropout (Dropout)           (None, 1152)              0         \n",
            "                                                                 \n",
            " dense (Dense)               (None, 512)               590336    \n",
            "                                                                 \n",
            " dropout_1 (Dropout)         (None, 512)               0         \n",
            "                                                                 \n",
            " dense_1 (Dense)             (None, 10)                5130      \n",
            "                                                                 \n",
            "=================================================================\n",
            "Total params: 1851402 (7.06 MB)\n",
            "Trainable params: 1851402 (7.06 MB)\n",
            "Non-trainable params: 0 (0.00 Byte)\n",
            "_________________________________________________________________\n"
          ]
        }
      ]
    },
    {
      "cell_type": "code",
      "source": [
        "model2 = ResNet11(BasicBlock, [1, 1, 1, 1], num_classes=10)  # 4 blocks with 1 layer each\n",
        "model3 = ResNet11(BasicBlock, [2, 2, 2, 2], num_classes=10)\n",
        "model4 = ResNet11_with_dropout(BasicBlock, [1, 1, 1, 1], num_classes=10, dropout_prob=0.5)\n",
        "model5 = ResNet11_with_dropout(BasicBlock, [2, 2, 2, 2], num_classes=10, dropout_prob=0.5)"
      ],
      "metadata": {
        "id": "m8detRI_re0w"
      },
      "execution_count": 10,
      "outputs": []
    },
    {
      "cell_type": "code",
      "source": [
        "device = torch.device(\"cuda:0\" if torch.cuda.is_available() else \"cpu\")\n",
        "print(\"Using device:\", device)\n",
        "transform = transforms.Compose([\n",
        "    transforms.ToTensor(),\n",
        "    transforms.Normalize((0.5, 0.5, 0.5), (0.5, 0.5, 0.5))\n",
        "])\n",
        "\n",
        "trainset = torchvision.datasets.CIFAR10(root='./data', train=True,\n",
        "                                        download=True, transform=transform)\n",
        "trainloader = torch.utils.data.DataLoader(trainset, batch_size=32,\n",
        "                                          shuffle=True, num_workers=2)\n",
        "\n",
        "testset = torchvision.datasets.CIFAR10(root='./data', train=False,\n",
        "                                       download=True, transform=transform)\n",
        "testloader = torch.utils.data.DataLoader(testset, batch_size=32,\n",
        "                                         shuffle=False, num_workers=2)"
      ],
      "metadata": {
        "colab": {
          "base_uri": "https://localhost:8080/"
        },
        "id": "us_Qmxv6rraO",
        "outputId": "748a84d0-7a1e-477b-c399-234d8ba2dc36"
      },
      "execution_count": 11,
      "outputs": [
        {
          "output_type": "stream",
          "name": "stdout",
          "text": [
            "Using device: cuda:0\n",
            "Downloading https://www.cs.toronto.edu/~kriz/cifar-10-python.tar.gz to ./data/cifar-10-python.tar.gz\n"
          ]
        },
        {
          "output_type": "stream",
          "name": "stderr",
          "text": [
            "100%|██████████| 170498071/170498071 [00:05<00:00, 29456019.05it/s]\n"
          ]
        },
        {
          "output_type": "stream",
          "name": "stdout",
          "text": [
            "Extracting ./data/cifar-10-python.tar.gz to ./data\n",
            "Files already downloaded and verified\n"
          ]
        }
      ]
    },
    {
      "cell_type": "code",
      "source": [
        "# Define the network, for ResNet11\n",
        "net = model2.to(device)\n",
        "criterion = nn.CrossEntropyLoss()\n",
        "\n",
        "optimizer = optim.Adam(net.parameters(), lr=0.001)\n",
        "#optimizer = optim.SGD(net.parameters(), lr=0.001, momentum=0.9)"
      ],
      "metadata": {
        "id": "qWsFBmnLspTE"
      },
      "execution_count": 12,
      "outputs": []
    },
    {
      "cell_type": "code",
      "source": [
        "train_loss_list, val_loss_list, val_accuracy_list = train_and_validate(net, trainloader, testloader, optimizer, criterion, device, epochs=10)"
      ],
      "metadata": {
        "colab": {
          "base_uri": "https://localhost:8080/"
        },
        "id": "rXqK9heMr57d",
        "outputId": "53fd0596-be39-4521-910d-d62e5bfcfd0a"
      },
      "execution_count": 13,
      "outputs": [
        {
          "output_type": "stream",
          "name": "stdout",
          "text": [
            "Epoch 1, Training loss: 1.2411134433303974, Validation loss: 1.0273084461498565, Validation Accuracy: 64.59%\n",
            "Epoch 2, Training loss: 0.7769740402355304, Validation loss: 0.772498437771782, Validation Accuracy: 73.44%\n",
            "Epoch 3, Training loss: 0.5697507860278442, Validation loss: 0.5908910723063893, Validation Accuracy: 79.29%\n",
            "Epoch 4, Training loss: 0.4285756182533308, Validation loss: 0.5461777220137964, Validation Accuracy: 81.91%\n",
            "Epoch 5, Training loss: 0.30745251900537307, Validation loss: 0.5591282695531845, Validation Accuracy: 81.69%\n",
            "Epoch 6, Training loss: 0.20890210646008614, Validation loss: 0.589189345796649, Validation Accuracy: 82.5%\n",
            "Epoch 7, Training loss: 0.13498943319105647, Validation loss: 0.6430306776215474, Validation Accuracy: 81.92%\n",
            "Epoch 8, Training loss: 0.10633076856467547, Validation loss: 0.7138631829438499, Validation Accuracy: 81.46%\n",
            "Epoch 9, Training loss: 0.07721203624803254, Validation loss: 0.7313061179206394, Validation Accuracy: 82.86%\n",
            "Epoch 10, Training loss: 0.07008677808930906, Validation loss: 0.7657971242174935, Validation Accuracy: 82.41%\n"
          ]
        }
      ]
    },
    {
      "cell_type": "code",
      "source": [
        "# Print final validation accuracy\n",
        "print(f'Final Validation Accuracy: {val_accuracy_list[-1]}%')\n",
        "# Calculate total number of parameters\n",
        "total_params = sum(p.numel() for p in net.parameters())\n",
        "print(f'Total number of parameters in the model: {total_params}')\n",
        "\n"
      ],
      "metadata": {
        "colab": {
          "base_uri": "https://localhost:8080/"
        },
        "id": "Fg7v06GAsizT",
        "outputId": "34500ae0-cd48-48d4-b6be-2569fbdd538d"
      },
      "execution_count": 14,
      "outputs": [
        {
          "output_type": "stream",
          "name": "stdout",
          "text": [
            "Final Validation Accuracy: 82.41%\n",
            "Total number of parameters in the model: 4903242\n"
          ]
        }
      ]
    },
    {
      "cell_type": "code",
      "source": [
        "# Define the network for ResNet18\n",
        "net1 = model3.to(device)\n",
        "optimizer1 = optim.Adam(net1.parameters(), lr=0.001)"
      ],
      "metadata": {
        "id": "UeRoBrhMyM7m"
      },
      "execution_count": 15,
      "outputs": []
    },
    {
      "cell_type": "code",
      "source": [
        "train_loss_list1, val_loss_list1, val_accuracy_list1 = train_and_validate(net1, trainloader, testloader, optimizer1, criterion, device, epochs=10)"
      ],
      "metadata": {
        "colab": {
          "base_uri": "https://localhost:8080/"
        },
        "id": "iLQyLrisyTHr",
        "outputId": "406acbb2-9283-4701-fcc8-cbf65382d89a"
      },
      "execution_count": 16,
      "outputs": [
        {
          "output_type": "stream",
          "name": "stdout",
          "text": [
            "Epoch 1, Training loss: 1.3588875418890003, Validation loss: 1.0054958807393766, Validation Accuracy: 63.62%\n",
            "Epoch 2, Training loss: 0.8427316950668682, Validation loss: 0.7234064062563376, Validation Accuracy: 75.1%\n",
            "Epoch 3, Training loss: 0.6234832899984609, Validation loss: 0.6383118816077138, Validation Accuracy: 77.88%\n",
            "Epoch 4, Training loss: 0.4808969765672757, Validation loss: 0.5240678460405658, Validation Accuracy: 81.91%\n",
            "Epoch 5, Training loss: 0.366462946476764, Validation loss: 0.5372581185338596, Validation Accuracy: 82.25%\n",
            "Epoch 6, Training loss: 0.2687795398946344, Validation loss: 0.5129749916803342, Validation Accuracy: 83.5%\n",
            "Epoch 7, Training loss: 0.18689744456856489, Validation loss: 0.5967646128120133, Validation Accuracy: 82.31%\n",
            "Epoch 8, Training loss: 0.13356724671986114, Validation loss: 0.5810205556047611, Validation Accuracy: 83.51%\n",
            "Epoch 9, Training loss: 0.10682852452061356, Validation loss: 0.618141373744407, Validation Accuracy: 83.97%\n",
            "Epoch 10, Training loss: 0.0813421907800298, Validation loss: 0.6828269305915687, Validation Accuracy: 83.77%\n"
          ]
        }
      ]
    },
    {
      "cell_type": "code",
      "source": [
        "# Print final validation accuracy\n",
        "print(f'Final Validation Accuracy: {val_accuracy_list1[-1]}%')\n",
        "# Calculate total number of parameters\n",
        "total_params = sum(p.numel() for p in net1.parameters())\n",
        "print(f'Total number of parameters in the model: {total_params}')"
      ],
      "metadata": {
        "colab": {
          "base_uri": "https://localhost:8080/"
        },
        "id": "q19vn-vn2IpW",
        "outputId": "bffa0899-c64c-4774-8174-59eb633da66e"
      },
      "execution_count": 17,
      "outputs": [
        {
          "output_type": "stream",
          "name": "stdout",
          "text": [
            "Final Validation Accuracy: 83.77%\n",
            "Total number of parameters in the model: 11173962\n"
          ]
        }
      ]
    },
    {
      "cell_type": "code",
      "source": [
        "#Resnet 11 With dropout\n",
        "# Define the network, loss function, and optimizer\n",
        "net2 = model4.to(device)\n",
        "criterion = nn.CrossEntropyLoss()\n",
        "\n",
        "optimizer2 = optim.Adam(net2.parameters(), lr=0.001)\n",
        "#optimizer = optim.SGD(net.parameters(), lr=0.001, momentum=0.9)"
      ],
      "metadata": {
        "id": "SsawN5zAuqDG"
      },
      "execution_count": 18,
      "outputs": []
    },
    {
      "cell_type": "code",
      "source": [
        "train_loss_list2, val_loss_list2, val_accuracy_list2 = train_and_validate(net2, trainloader, testloader, optimizer2, criterion, device, epochs=10)"
      ],
      "metadata": {
        "colab": {
          "base_uri": "https://localhost:8080/"
        },
        "id": "BxZxEUayvmPs",
        "outputId": "d3d2de54-1038-4d8f-aa49-0c938991be96"
      },
      "execution_count": 19,
      "outputs": [
        {
          "output_type": "stream",
          "name": "stdout",
          "text": [
            "Epoch 1, Training loss: 1.4084241823439254, Validation loss: 1.1604125113152086, Validation Accuracy: 58.94%\n",
            "Epoch 2, Training loss: 1.0073725399075604, Validation loss: 0.8215247509768977, Validation Accuracy: 70.8%\n",
            "Epoch 3, Training loss: 0.8392847104096977, Validation loss: 0.7350657028131211, Validation Accuracy: 74.48%\n",
            "Epoch 4, Training loss: 0.7218017157212482, Validation loss: 0.6565152261489496, Validation Accuracy: 77.31%\n",
            "Epoch 5, Training loss: 0.6301930016401251, Validation loss: 0.5812166356526244, Validation Accuracy: 80.09%\n",
            "Epoch 6, Training loss: 0.5593037267220913, Validation loss: 0.5083985575281393, Validation Accuracy: 82.58%\n",
            "Epoch 7, Training loss: 0.5016912029137309, Validation loss: 0.5033373930774176, Validation Accuracy: 82.66%\n",
            "Epoch 8, Training loss: 0.4570756850005035, Validation loss: 0.4432328852316061, Validation Accuracy: 85.3%\n",
            "Epoch 9, Training loss: 0.42002799299975196, Validation loss: 0.4245661660648002, Validation Accuracy: 85.48%\n",
            "Epoch 10, Training loss: 0.3773698420362143, Validation loss: 0.403402764338274, Validation Accuracy: 86.24%\n"
          ]
        }
      ]
    },
    {
      "cell_type": "code",
      "source": [
        "# Print final validation accuracy\n",
        "print(f'Final Validation Accuracy: {val_accuracy_list2[-1]}%')\n",
        "# Calculate total number of parameters\n",
        "total_params = sum(p.numel() for p in net2.parameters())\n",
        "print(f'Total number of parameters in the model: {total_params}')"
      ],
      "metadata": {
        "colab": {
          "base_uri": "https://localhost:8080/"
        },
        "id": "2lkJjwW8vswQ",
        "outputId": "7c68a494-dcde-4568-c9bf-25ea2d1cba11"
      },
      "execution_count": 20,
      "outputs": [
        {
          "output_type": "stream",
          "name": "stdout",
          "text": [
            "Final Validation Accuracy: 86.24%\n",
            "Total number of parameters in the model: 4903242\n"
          ]
        }
      ]
    },
    {
      "cell_type": "code",
      "source": [
        "#Resnet 18 With dropout\n",
        "# Define the network, loss function, and optimizer\n",
        "net3 = model5.to(device)\n",
        "criterion = nn.CrossEntropyLoss()\n",
        "\n",
        "optimizer3 = optim.Adam(net3.parameters(), lr=0.001)\n",
        "#optimizer = optim.SGD(net.parameters(), lr=0.001, momentum=0.9)"
      ],
      "metadata": {
        "id": "rptD_HyP3XJM"
      },
      "execution_count": 21,
      "outputs": []
    },
    {
      "cell_type": "code",
      "source": [
        "train_loss_list3, val_loss_list3, val_accuracy_list3 = train_and_validate(net3, trainloader, testloader, optimizer3, criterion, device, epochs=10)"
      ],
      "metadata": {
        "colab": {
          "base_uri": "https://localhost:8080/"
        },
        "id": "iYGsSRax3cA4",
        "outputId": "61984f2a-db90-40a6-dbc1-0b199b7618af"
      },
      "execution_count": 22,
      "outputs": [
        {
          "output_type": "stream",
          "name": "stdout",
          "text": [
            "Epoch 1, Training loss: 1.435894511482766, Validation loss: 1.0390066394028954, Validation Accuracy: 62.64%\n",
            "Epoch 2, Training loss: 0.9890439527887454, Validation loss: 0.837847617487557, Validation Accuracy: 71.08%\n",
            "Epoch 3, Training loss: 0.7805004821934154, Validation loss: 0.7014767919866421, Validation Accuracy: 75.44%\n",
            "Epoch 4, Training loss: 0.6527849801042029, Validation loss: 0.6581317810966565, Validation Accuracy: 77.75%\n",
            "Epoch 5, Training loss: 0.563244638129144, Validation loss: 0.5454564969570111, Validation Accuracy: 81.35%\n",
            "Epoch 6, Training loss: 0.48879498711436203, Validation loss: 0.4929812067090132, Validation Accuracy: 83.08%\n",
            "Epoch 7, Training loss: 0.4358854610913851, Validation loss: 0.4544110519293779, Validation Accuracy: 84.27%\n",
            "Epoch 8, Training loss: 0.3802897802203112, Validation loss: 0.42968966047794294, Validation Accuracy: 85.38%\n",
            "Epoch 9, Training loss: 0.33452414637830724, Validation loss: 0.41683674289490846, Validation Accuracy: 86.03%\n",
            "Epoch 10, Training loss: 0.2937234263445274, Validation loss: 0.4223999490800757, Validation Accuracy: 86.22%\n"
          ]
        }
      ]
    },
    {
      "cell_type": "code",
      "source": [
        "# Print final validation accuracy\n",
        "print(f'Final Validation Accuracy: {val_accuracy_list3[-1]}%')\n",
        "# Calculate total number of parameters\n",
        "total_params = sum(p.numel() for p in net3.parameters())\n",
        "print(f'Total number of parameters in the model: {total_params}')"
      ],
      "metadata": {
        "colab": {
          "base_uri": "https://localhost:8080/"
        },
        "id": "kzl9ds0Q3ghx",
        "outputId": "024127b6-2fc8-479e-fd90-bdccadc01ff8"
      },
      "execution_count": 23,
      "outputs": [
        {
          "output_type": "stream",
          "name": "stdout",
          "text": [
            "Final Validation Accuracy: 86.22%\n",
            "Total number of parameters in the model: 11173962\n"
          ]
        }
      ]
    },
    {
      "cell_type": "code",
      "source": [
        "#Resnet 11 Plot\n",
        "# Plotting training and validation loss\n",
        "plt.plot(train_loss_list, label='Training Loss')\n",
        "plt.plot(val_loss_list, label='Validation Loss')\n",
        "plt.xlabel('Epoch')\n",
        "plt.ylabel('Loss')\n",
        "plt.title('Training and Validation Loss Resnet11')\n",
        "plt.legend()\n",
        "plt.show()"
      ],
      "metadata": {
        "colab": {
          "base_uri": "https://localhost:8080/",
          "height": 472
        },
        "id": "SjO9ZLp_35Ls",
        "outputId": "2ce1415a-32d8-465c-8298-b8cba6ee3d7a"
      },
      "execution_count": 25,
      "outputs": [
        {
          "output_type": "display_data",
          "data": {
            "text/plain": [
              "<Figure size 640x480 with 1 Axes>"
            ],
            "image/png": "[encoded data removed]"
          },
          "metadata": {}
        }
      ]
    },
    {
      "cell_type": "code",
      "source": [
        "#Resnet 18 Plot\n",
        "# Plotting training and validation loss\n",
        "plt.plot(train_loss_list1, label='Training Loss')\n",
        "plt.plot(val_loss_list1, label='Validation Loss')\n",
        "plt.xlabel('Epoch')\n",
        "plt.ylabel('Loss')\n",
        "plt.title('Training and Validation Loss Resnet18')\n",
        "plt.legend()\n",
        "plt.show()"
      ],
      "metadata": {
        "colab": {
          "base_uri": "https://localhost:8080/",
          "height": 472
        },
        "id": "f-LGBkZ6376y",
        "outputId": "e84727bf-d35a-48fc-8166-af15c170c559"
      },
      "execution_count": 26,
      "outputs": [
        {
          "output_type": "display_data",
          "data": {
            "text/plain": [
              "<Figure size 640x480 with 1 Axes>"
            ],
            "image/png": "[encoded data removed]"
          },
          "metadata": {}
        }
      ]
    },
    {
      "cell_type": "code",
      "source": [
        "#Resnet 11 Dropout Plot\n",
        "# Plotting training and validation loss\n",
        "plt.plot(train_loss_list2, label='Training Loss')\n",
        "plt.plot(val_loss_list2, label='Validation Loss')\n",
        "plt.xlabel('Epoch')\n",
        "plt.ylabel('Loss')\n",
        "plt.title('Training and Validation Loss Resnet11 with Dropout')\n",
        "plt.legend()\n",
        "plt.show()"
      ],
      "metadata": {
        "colab": {
          "base_uri": "https://localhost:8080/",
          "height": 472
        },
        "id": "1jMJaxi93_XX",
        "outputId": "172bbe85-fbfc-4a50-f71d-adfb9023dfde"
      },
      "execution_count": 27,
      "outputs": [
        {
          "output_type": "display_data",
          "data": {
            "text/plain": [
              "<Figure size 640x480 with 1 Axes>"
            ],
            "image/png": "[encoded data removed]"
          },
          "metadata": {}
        }
      ]
    },
    {
      "cell_type": "code",
      "source": [
        "#Resnet 18 Dropout Plot\n",
        "# Plotting training and validation loss\n",
        "plt.plot(train_loss_list3, label='Training Loss')\n",
        "plt.plot(val_loss_list3, label='Validation Loss')\n",
        "plt.xlabel('Epoch')\n",
        "plt.ylabel('Loss')\n",
        "plt.title('Training and Validation Loss Resnet18 with Dropout')\n",
        "plt.legend()\n",
        "plt.show()"
      ],
      "metadata": {
        "colab": {
          "base_uri": "https://localhost:8080/",
          "height": 472
        },
        "id": "NcMl_x_D4C4k",
        "outputId": "b1a3b313-5a46-42e7-a579-4822f4a7a4c9"
      },
      "execution_count": 28,
      "outputs": [
        {
          "output_type": "display_data",
          "data": {
            "text/plain": [
              "<Figure size 640x480 with 1 Axes>"
            ],
            "image/png": "[encoded data removed]"
          },
          "metadata": {}
        }
      ]
    }
  ]
}